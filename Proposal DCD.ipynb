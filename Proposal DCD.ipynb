{
 "cells": [
  {
   "cell_type": "markdown",
   "id": "50dee18d",
   "metadata": {},
   "source": [
    "## PROPOSAL DCD\n",
    "\n",
    "#### Menentukan Keterkaitan Antar Produk Berdasarkan Kebutuhan Donatur\n",
    "\n",
    "**BACKGROUND**\n",
    "\n",
    "Seiring dengan meningkatnya kemudahan bagi masyarakat luas dalam mengakses produk yang mereka butuhkan, banyak perusahaan bersaing dalam _red ocean market_. Persaingan antar perusahaan bukan lagi tentang ukuran perusahaan, tetapi terkait siapa yang cepat hadir dalam jangkauan masyarakat, sesuai dengan kebutuhan dan tawaran yang sesuai dengan keinginan para calon-calon pelanggannya. \n",
    "\n",
    "Dengan kematangan akses internet diseluruh dunia, banyak sekali pelaku bisnis yang mulai berpindah dari _brick and mortar store_ kepada _virtual store_, dimana toko-toko yang mereka dirikan ada pada dunia maya (internet) dengan akses yang sangat mudah dijangkau oleh siapapun yang memiliki akses internet. Hal ini menyebabkan persaingan semakin ketat dan memaksa perusahaan-perusahaan untuk lebih bergerak lebih cepat dan lebih kreatif dalam mengenalkan dan menawarkan produknya ke masyarakat luas. \n",
    "\n",
    "Untuk menang dalam persaingan pada _red ocean market_, setiap perusahaan merencanakan strategi bisnis dan melakukan upaya yang seringkali berbeda antara satu perusahaan dan lainnya. Perusahaan besar seringkali mencoba memenangkan pasar dengan menggunakan keunggulan skala ekonomi atau _economies of scale_, dimana mereka memproduksi produk secara masal agar mendapatkan biaya produksi yang murah sehingga dapat dijual lebih bersaing. Selain skala ekonomis, ada juga perusahaan yang memanfaatkan kekuatan merk atau _brand equity_ nya untuk memproduksi barang yang dirasa dapat meningkatkan status sosial para pelanggannya, dan kemudian perusahaan tersebut akan memberikan harga yang hanya bisa dijangkau oleh kalangan-kalangan tertentu.\n",
    "\n",
    "Selain strategi pada produk, tidak lepas juga para perusahaan melakukan strategi _marketing_ yang beragam mulai dari memberikan diskon atau _flash sale_ agar membuat para pelanggan percaya bahwa mereka akan untung dengan membeli produk dengan harga yang murah daripada seharusnya, menganggarkan pengiklanan secara _online_ agar produk terkait dikenal masyarakat luas, membuat produk contoh agar para pelanggan memiliki gambaran terkait produk yang akan diterima, melakukan produk _bundling_ dimana pelanggan akan menerima seperangkat produk dengan harga yang lebih murah dibandingkan membeli beberapa produk secara terpisah, sampai kepada _cross selling_ dimana perusahaan-perusahaan tersebut akan menawarkan produk yang lain yang mungkin pelanggan inginkan atau butuhkan seiring dengan kebutuhan pelanggan setelah membeli produk pertamanya. \n",
    "\n",
    "Agar mampu memenangkan persaingan dan menjadi pemenang, perusahaan perlu melakukan lebih dari sekedar merencanakan dan membuat strategi yang bagus, tetapi perlu sampai mampu mengeksekusi  bagaimana menerapkan strategi tersebut secara tepat, efektif dan efisien."
   ]
  },
  {
   "cell_type": "markdown",
   "id": "0acd425a",
   "metadata": {},
   "source": [
    "**PROBLEM STATEMENT**\n",
    "\n",
    "Seringkali, strategi yang sudah difikirkan secara matang dan direncanakan secara hati-hati, berujung gagal dan tidak membuahkan hasil. Hal ini disebabkan karena strategi yang sudah disepakati, dieksekusi tidak sesuai dengan keinginan atau kebutuhan pasar. Banyak perusahaan yang melakukan riset ketika akan melaksanakan strateginya, namun seringkali juga mereka melupakan untuk melihat perkembangan kebutuhan dan keinginan pasar seiring dengan pergeseran persona pelanggannya. \n",
    "\n",
    "Data, dimana hal tersebut disebut sebagai mata uang baru bagi pelaku bisnis, seringkali tidak direncanakan untuk didapatkan dan disimpan. Sekalipun perusahaan berhasil mengumpulkan data, tidak jarang juga mereka lupa untuk memanfaatkannya dengan baik dan ditumpuk menjadi sebuah hal yang dianggap tidak penting. Hal tersebut bisa terjadi karena kurangnya pengetahuan para pelaku bisnis terhadap keuntungan dari mengolah data, ataupun  ketidak mampuan dalam mengolah data, sampai kepada tidak adanya sumberdaya yang mengolah data tersebut. Hal ini menyebabkan berkurang ataupun hilangnya efektifitas dari strategi yang sudah dibuat karena perusahaan gagal untuk mengambil perspektif dari kacamata para pelanggannya, sehingga keputusan untuk strategi yang dibuat tidak _customer centric_. "
   ]
  },
  {
   "cell_type": "markdown",
   "id": "6fece134",
   "metadata": {},
   "source": [
    "**PROJECT IDEA** \n",
    "\n",
    "Untuk menghindari keputusan-keputusan yang tidak _customer centric_, perusahaan dapat menemukan pola yang dapat dimanfaatkan untuk membuat dan menerapkan strateginya. Pada hal ini, strategi _marketing bundling_ ataupun _cross selling_, dapat dimaksimalisasi dengan melihat data yang ada terkait kebiasaan pelanggan dalam membeli beberapa produk sekaligus. Hal ini dapat memberikan _insight_ tentang keterkaitan antar produk sehingga perusahaan bisa terus menawarkan produk yang sesuai dengan kebutuhan ataupun keinginan pelanggannya. "
   ]
  },
  {
   "cell_type": "markdown",
   "id": "355d1e63",
   "metadata": {},
   "source": [
    "**DATA AND METHOD**\n",
    "\n",
    "Data yang akan digunakan pada project ini adalah data _retail_, dimana data tersebut didapatkan dari situs _kaggle_ yang berisikan data pembelajaan produk, dengan detail:\n",
    "\n",
    "- BillNo: 6-digit nomor transaksi.\n",
    "- Itemname: Nama produk. \n",
    "- Quantity: kuantitas setiap produk per transaksi.\n",
    "- Date: Hari dan waktu transaksi. \n",
    "- Price: Harga produk.\n",
    "- CustomerID: 5-digit nomor pelanggan.\n",
    "- Country: Nama negara dimana pelanggan tinggal. \n",
    "\n",
    "Untuk metode `machine learning` akan dibuat menggunakan metode **market basket analysis** menggunakan **algoritma apriori**. Algoritma Apriori merupakan salah satu algoritma unsupervised pada _data mining_, khususnya pada tugas asosiasi. Asosiasi adalah proses menyelidiki hubungan antara satu objek data dengan objek lainnya dalam dataset. Dengan kata lain, algoritma apriori adalah algoritma berbasis aturan asosiasi yang menganalisis apakah orang yang membeli produk A juga membeli produk B. Algoritma ini akan menghasilkan kandidat baru dari k-itemset dari frequent itemset pada langkah sebelumnya dan menghitung nilai support k- itemset tersebut. Itemset yang memiliki nilai support dibawah dari minimum support akan dihapus.\n",
    "\n",
    "Pada algoritma Apriori, terdapat 3 komponen penting, yaitu:\n",
    "\n",
    "- Support: Menunjukkan popularitas rata-rata produk atau item dalam database. Kita bisa mendapatkan nilai support dengan membagi jumlah total transaksi yang mengandung produk itu dengan jumlah total transaksi.\n",
    "\n",
    "Contoh: \n",
    "\n",
    "Support(kopi) = jumlah transaksi kopi / total transaksi semua produk\n",
    "\n",
    "Support(kopi) = 200/2000 = 0.1 = 10%\n",
    "\n",
    "Support(minyak) = jumlah transaksi minyak / total transaksi semua produk\n",
    "\n",
    "Support(minyak) = 500 / 2000 = 0.4 = 40%\n",
    "\n",
    "Terakhir nilai support dari kombinasi keduanya yaitu:\n",
    "\n",
    "Support(kopi dan minyak) = jumlah transaksi kombinasi kopi dan minyak / total transaksi semua produk\n",
    "\n",
    "Support(kopi dan minyak) = 100 / 2000 = 0.05 = 5%\n",
    "\n",
    "\n",
    "\n",
    "- Confidence: Mengacu pada kemungkinan seorang pelanggan membeli kopi sachet dan minyak goreng secara bersamaan. Untuk menghitung nilai confidence kita perlu membagi jumlah transaksi kombinasi kopi sachet dan minyak goreng dengan jumlah total transaksi kopi.\n",
    "\n",
    "Rumusnya:\n",
    "\n",
    "Confidence = jumlah transaksi kombinasi kopi dan minyak / total transaksi kopi\n",
    "\n",
    "Confidence = 100/200 = 0.5 = 50%\n",
    "\n",
    "- Lift: Peningkatan rasio penjualan kopi saat kita menjual minyak goreng. Untuk mendapatkan nilai lift kita dapat menggunakan perhitungan berikut:\n",
    "\n",
    "\n",
    "Lift = support(kopi dan minyak) / (support(kopi) * support(minyak))\n",
    "\n",
    "Lift = 0.05 / (0.1 * 0.4) = 1.25\n",
    "\n",
    "Artinya ketika kita menjual kopi sachet bersama-sama dengan minyak goreng, kemungkinan seseorang membeli keduanya adalah 1.25 kali dibandingkan membeli secara terpisah. \n",
    "\n",
    "Apabila nilai lift di bawah satu, maka menandakan bahwa pelanggan jarang membeli kedua barang tersebut secara bersamaan. \n",
    "\n",
    "\n"
   ]
  },
  {
   "cell_type": "markdown",
   "id": "a7f46894",
   "metadata": {},
   "source": [
    "**OUTPUT** \n",
    "\n",
    "Hasil dari machine learning ini adalah berupa dashboard yang akan memperlihatkan keterkaitan antar produk (**associated items**). Selain itu dashboard akan menampilkan top produk serta inklusi produk yang sering dibeli bersamaan. "
   ]
  },
  {
   "cell_type": "markdown",
   "id": "8e5bea7e",
   "metadata": {},
   "source": [
    "**BUSINESS IMPACT**\n",
    "\n",
    "Dampak yang dapat diberikan kepada perusahaan ataupun para pelaku usaha, adalah pengetahuan terkait produk apa yang berkaitan antara satu produk dengan lainnya melalui kacamata para pelanggannya, sehingga baik perusahaan maupun pelaku usaha dapat menentukan dan mengeksekusi strategi yang lebih tepat dan efektif sesuai dengan kebutuhan ataupun keinginan pelanggan. Selain itu, perusahaan juga dapat memberikan _bundling_ dan promosi produk secara tepat agar dapat mendapatkan keuntungan yang maksimal"
   ]
  },
  {
   "cell_type": "markdown",
   "id": "5c8eead4",
   "metadata": {},
   "source": [
    "**DATA SET**"
   ]
  },
  {
   "cell_type": "code",
   "execution_count": 25,
   "id": "a33b282b",
   "metadata": {},
   "outputs": [],
   "source": [
    "import pandas as pd\n",
    "import matplotlib.pyplot as plt"
   ]
  },
  {
   "cell_type": "code",
   "execution_count": 17,
   "id": "f8e2b71d",
   "metadata": {},
   "outputs": [],
   "source": [
    "superstore = pd.read_csv(\"Superstore.csv\", on_bad_lines = \"skip\", encoding='windows-1252')"
   ]
  },
  {
   "cell_type": "code",
   "execution_count": 20,
   "id": "d30696f5",
   "metadata": {},
   "outputs": [
    {
     "data": {
      "text/html": [
       "<div>\n",
       "<style scoped>\n",
       "    .dataframe tbody tr th:only-of-type {\n",
       "        vertical-align: middle;\n",
       "    }\n",
       "\n",
       "    .dataframe tbody tr th {\n",
       "        vertical-align: top;\n",
       "    }\n",
       "\n",
       "    .dataframe thead th {\n",
       "        text-align: right;\n",
       "    }\n",
       "</style>\n",
       "<table border=\"1\" class=\"dataframe\">\n",
       "  <thead>\n",
       "    <tr style=\"text-align: right;\">\n",
       "      <th></th>\n",
       "      <th>Row ID</th>\n",
       "      <th>Order ID</th>\n",
       "      <th>Order Date</th>\n",
       "      <th>Ship Date</th>\n",
       "      <th>Ship Mode</th>\n",
       "      <th>Customer ID</th>\n",
       "      <th>Customer Name</th>\n",
       "      <th>Segment</th>\n",
       "      <th>Country</th>\n",
       "      <th>City</th>\n",
       "      <th>...</th>\n",
       "      <th>Postal Code</th>\n",
       "      <th>Region</th>\n",
       "      <th>Product ID</th>\n",
       "      <th>Category</th>\n",
       "      <th>Sub-Category</th>\n",
       "      <th>Product Name</th>\n",
       "      <th>Sales</th>\n",
       "      <th>Quantity</th>\n",
       "      <th>Discount</th>\n",
       "      <th>Profit</th>\n",
       "    </tr>\n",
       "  </thead>\n",
       "  <tbody>\n",
       "    <tr>\n",
       "      <th>0</th>\n",
       "      <td>1</td>\n",
       "      <td>CA-2016-152156</td>\n",
       "      <td>11/8/2016</td>\n",
       "      <td>11/11/2016</td>\n",
       "      <td>Second Class</td>\n",
       "      <td>CG-12520</td>\n",
       "      <td>Claire Gute</td>\n",
       "      <td>Consumer</td>\n",
       "      <td>United States</td>\n",
       "      <td>Henderson</td>\n",
       "      <td>...</td>\n",
       "      <td>42420</td>\n",
       "      <td>South</td>\n",
       "      <td>FUR-BO-10001798</td>\n",
       "      <td>Furniture</td>\n",
       "      <td>Bookcases</td>\n",
       "      <td>Bush Somerset Collection Bookcase</td>\n",
       "      <td>261.9600</td>\n",
       "      <td>2</td>\n",
       "      <td>0.00</td>\n",
       "      <td>41.9136</td>\n",
       "    </tr>\n",
       "    <tr>\n",
       "      <th>1</th>\n",
       "      <td>2</td>\n",
       "      <td>CA-2016-152156</td>\n",
       "      <td>11/8/2016</td>\n",
       "      <td>11/11/2016</td>\n",
       "      <td>Second Class</td>\n",
       "      <td>CG-12520</td>\n",
       "      <td>Claire Gute</td>\n",
       "      <td>Consumer</td>\n",
       "      <td>United States</td>\n",
       "      <td>Henderson</td>\n",
       "      <td>...</td>\n",
       "      <td>42420</td>\n",
       "      <td>South</td>\n",
       "      <td>FUR-CH-10000454</td>\n",
       "      <td>Furniture</td>\n",
       "      <td>Chairs</td>\n",
       "      <td>Hon Deluxe Fabric Upholstered Stacking Chairs,...</td>\n",
       "      <td>731.9400</td>\n",
       "      <td>3</td>\n",
       "      <td>0.00</td>\n",
       "      <td>219.5820</td>\n",
       "    </tr>\n",
       "    <tr>\n",
       "      <th>2</th>\n",
       "      <td>3</td>\n",
       "      <td>CA-2016-138688</td>\n",
       "      <td>6/12/2016</td>\n",
       "      <td>6/16/2016</td>\n",
       "      <td>Second Class</td>\n",
       "      <td>DV-13045</td>\n",
       "      <td>Darrin Van Huff</td>\n",
       "      <td>Corporate</td>\n",
       "      <td>United States</td>\n",
       "      <td>Los Angeles</td>\n",
       "      <td>...</td>\n",
       "      <td>90036</td>\n",
       "      <td>West</td>\n",
       "      <td>OFF-LA-10000240</td>\n",
       "      <td>Office Supplies</td>\n",
       "      <td>Labels</td>\n",
       "      <td>Self-Adhesive Address Labels for Typewriters b...</td>\n",
       "      <td>14.6200</td>\n",
       "      <td>2</td>\n",
       "      <td>0.00</td>\n",
       "      <td>6.8714</td>\n",
       "    </tr>\n",
       "    <tr>\n",
       "      <th>3</th>\n",
       "      <td>4</td>\n",
       "      <td>US-2015-108966</td>\n",
       "      <td>10/11/2015</td>\n",
       "      <td>10/18/2015</td>\n",
       "      <td>Standard Class</td>\n",
       "      <td>SO-20335</td>\n",
       "      <td>Sean O'Donnell</td>\n",
       "      <td>Consumer</td>\n",
       "      <td>United States</td>\n",
       "      <td>Fort Lauderdale</td>\n",
       "      <td>...</td>\n",
       "      <td>33311</td>\n",
       "      <td>South</td>\n",
       "      <td>FUR-TA-10000577</td>\n",
       "      <td>Furniture</td>\n",
       "      <td>Tables</td>\n",
       "      <td>Bretford CR4500 Series Slim Rectangular Table</td>\n",
       "      <td>957.5775</td>\n",
       "      <td>5</td>\n",
       "      <td>0.45</td>\n",
       "      <td>-383.0310</td>\n",
       "    </tr>\n",
       "    <tr>\n",
       "      <th>4</th>\n",
       "      <td>5</td>\n",
       "      <td>US-2015-108966</td>\n",
       "      <td>10/11/2015</td>\n",
       "      <td>10/18/2015</td>\n",
       "      <td>Standard Class</td>\n",
       "      <td>SO-20335</td>\n",
       "      <td>Sean O'Donnell</td>\n",
       "      <td>Consumer</td>\n",
       "      <td>United States</td>\n",
       "      <td>Fort Lauderdale</td>\n",
       "      <td>...</td>\n",
       "      <td>33311</td>\n",
       "      <td>South</td>\n",
       "      <td>OFF-ST-10000760</td>\n",
       "      <td>Office Supplies</td>\n",
       "      <td>Storage</td>\n",
       "      <td>Eldon Fold 'N Roll Cart System</td>\n",
       "      <td>22.3680</td>\n",
       "      <td>2</td>\n",
       "      <td>0.20</td>\n",
       "      <td>2.5164</td>\n",
       "    </tr>\n",
       "  </tbody>\n",
       "</table>\n",
       "<p>5 rows × 21 columns</p>\n",
       "</div>"
      ],
      "text/plain": [
       "   Row ID        Order ID  Order Date   Ship Date       Ship Mode Customer ID  \\\n",
       "0       1  CA-2016-152156   11/8/2016  11/11/2016    Second Class    CG-12520   \n",
       "1       2  CA-2016-152156   11/8/2016  11/11/2016    Second Class    CG-12520   \n",
       "2       3  CA-2016-138688   6/12/2016   6/16/2016    Second Class    DV-13045   \n",
       "3       4  US-2015-108966  10/11/2015  10/18/2015  Standard Class    SO-20335   \n",
       "4       5  US-2015-108966  10/11/2015  10/18/2015  Standard Class    SO-20335   \n",
       "\n",
       "     Customer Name    Segment        Country             City  ...  \\\n",
       "0      Claire Gute   Consumer  United States        Henderson  ...   \n",
       "1      Claire Gute   Consumer  United States        Henderson  ...   \n",
       "2  Darrin Van Huff  Corporate  United States      Los Angeles  ...   \n",
       "3   Sean O'Donnell   Consumer  United States  Fort Lauderdale  ...   \n",
       "4   Sean O'Donnell   Consumer  United States  Fort Lauderdale  ...   \n",
       "\n",
       "  Postal Code  Region       Product ID         Category Sub-Category  \\\n",
       "0       42420   South  FUR-BO-10001798        Furniture    Bookcases   \n",
       "1       42420   South  FUR-CH-10000454        Furniture       Chairs   \n",
       "2       90036    West  OFF-LA-10000240  Office Supplies       Labels   \n",
       "3       33311   South  FUR-TA-10000577        Furniture       Tables   \n",
       "4       33311   South  OFF-ST-10000760  Office Supplies      Storage   \n",
       "\n",
       "                                        Product Name     Sales  Quantity  \\\n",
       "0                  Bush Somerset Collection Bookcase  261.9600         2   \n",
       "1  Hon Deluxe Fabric Upholstered Stacking Chairs,...  731.9400         3   \n",
       "2  Self-Adhesive Address Labels for Typewriters b...   14.6200         2   \n",
       "3      Bretford CR4500 Series Slim Rectangular Table  957.5775         5   \n",
       "4                     Eldon Fold 'N Roll Cart System   22.3680         2   \n",
       "\n",
       "   Discount    Profit  \n",
       "0      0.00   41.9136  \n",
       "1      0.00  219.5820  \n",
       "2      0.00    6.8714  \n",
       "3      0.45 -383.0310  \n",
       "4      0.20    2.5164  \n",
       "\n",
       "[5 rows x 21 columns]"
      ]
     },
     "execution_count": 20,
     "metadata": {},
     "output_type": "execute_result"
    }
   ],
   "source": [
    "superstore.head(5)"
   ]
  },
  {
   "cell_type": "code",
   "execution_count": 19,
   "id": "34664de8",
   "metadata": {},
   "outputs": [
    {
     "data": {
      "text/html": [
       "<div>\n",
       "<style scoped>\n",
       "    .dataframe tbody tr th:only-of-type {\n",
       "        vertical-align: middle;\n",
       "    }\n",
       "\n",
       "    .dataframe tbody tr th {\n",
       "        vertical-align: top;\n",
       "    }\n",
       "\n",
       "    .dataframe thead th {\n",
       "        text-align: right;\n",
       "    }\n",
       "</style>\n",
       "<table border=\"1\" class=\"dataframe\">\n",
       "  <thead>\n",
       "    <tr style=\"text-align: right;\">\n",
       "      <th></th>\n",
       "      <th>Row ID</th>\n",
       "      <th>Order ID</th>\n",
       "      <th>Order Date</th>\n",
       "      <th>Ship Date</th>\n",
       "      <th>Ship Mode</th>\n",
       "      <th>Customer ID</th>\n",
       "      <th>Customer Name</th>\n",
       "      <th>Segment</th>\n",
       "      <th>Country</th>\n",
       "      <th>City</th>\n",
       "      <th>...</th>\n",
       "      <th>Postal Code</th>\n",
       "      <th>Region</th>\n",
       "      <th>Product ID</th>\n",
       "      <th>Category</th>\n",
       "      <th>Sub-Category</th>\n",
       "      <th>Product Name</th>\n",
       "      <th>Sales</th>\n",
       "      <th>Quantity</th>\n",
       "      <th>Discount</th>\n",
       "      <th>Profit</th>\n",
       "    </tr>\n",
       "  </thead>\n",
       "  <tbody>\n",
       "    <tr>\n",
       "      <th>9989</th>\n",
       "      <td>9990</td>\n",
       "      <td>CA-2014-110422</td>\n",
       "      <td>1/21/2014</td>\n",
       "      <td>1/23/2014</td>\n",
       "      <td>Second Class</td>\n",
       "      <td>TB-21400</td>\n",
       "      <td>Tom Boeckenhauer</td>\n",
       "      <td>Consumer</td>\n",
       "      <td>United States</td>\n",
       "      <td>Miami</td>\n",
       "      <td>...</td>\n",
       "      <td>33180</td>\n",
       "      <td>South</td>\n",
       "      <td>FUR-FU-10001889</td>\n",
       "      <td>Furniture</td>\n",
       "      <td>Furnishings</td>\n",
       "      <td>Ultra Door Pull Handle</td>\n",
       "      <td>25.248</td>\n",
       "      <td>3</td>\n",
       "      <td>0.2</td>\n",
       "      <td>4.1028</td>\n",
       "    </tr>\n",
       "    <tr>\n",
       "      <th>9990</th>\n",
       "      <td>9991</td>\n",
       "      <td>CA-2017-121258</td>\n",
       "      <td>2/26/2017</td>\n",
       "      <td>3/3/2017</td>\n",
       "      <td>Standard Class</td>\n",
       "      <td>DB-13060</td>\n",
       "      <td>Dave Brooks</td>\n",
       "      <td>Consumer</td>\n",
       "      <td>United States</td>\n",
       "      <td>Costa Mesa</td>\n",
       "      <td>...</td>\n",
       "      <td>92627</td>\n",
       "      <td>West</td>\n",
       "      <td>FUR-FU-10000747</td>\n",
       "      <td>Furniture</td>\n",
       "      <td>Furnishings</td>\n",
       "      <td>Tenex B1-RE Series Chair Mats for Low Pile Car...</td>\n",
       "      <td>91.960</td>\n",
       "      <td>2</td>\n",
       "      <td>0.0</td>\n",
       "      <td>15.6332</td>\n",
       "    </tr>\n",
       "    <tr>\n",
       "      <th>9991</th>\n",
       "      <td>9992</td>\n",
       "      <td>CA-2017-121258</td>\n",
       "      <td>2/26/2017</td>\n",
       "      <td>3/3/2017</td>\n",
       "      <td>Standard Class</td>\n",
       "      <td>DB-13060</td>\n",
       "      <td>Dave Brooks</td>\n",
       "      <td>Consumer</td>\n",
       "      <td>United States</td>\n",
       "      <td>Costa Mesa</td>\n",
       "      <td>...</td>\n",
       "      <td>92627</td>\n",
       "      <td>West</td>\n",
       "      <td>TEC-PH-10003645</td>\n",
       "      <td>Technology</td>\n",
       "      <td>Phones</td>\n",
       "      <td>Aastra 57i VoIP phone</td>\n",
       "      <td>258.576</td>\n",
       "      <td>2</td>\n",
       "      <td>0.2</td>\n",
       "      <td>19.3932</td>\n",
       "    </tr>\n",
       "    <tr>\n",
       "      <th>9992</th>\n",
       "      <td>9993</td>\n",
       "      <td>CA-2017-121258</td>\n",
       "      <td>2/26/2017</td>\n",
       "      <td>3/3/2017</td>\n",
       "      <td>Standard Class</td>\n",
       "      <td>DB-13060</td>\n",
       "      <td>Dave Brooks</td>\n",
       "      <td>Consumer</td>\n",
       "      <td>United States</td>\n",
       "      <td>Costa Mesa</td>\n",
       "      <td>...</td>\n",
       "      <td>92627</td>\n",
       "      <td>West</td>\n",
       "      <td>OFF-PA-10004041</td>\n",
       "      <td>Office Supplies</td>\n",
       "      <td>Paper</td>\n",
       "      <td>It's Hot Message Books with Stickers, 2 3/4\" x 5\"</td>\n",
       "      <td>29.600</td>\n",
       "      <td>4</td>\n",
       "      <td>0.0</td>\n",
       "      <td>13.3200</td>\n",
       "    </tr>\n",
       "    <tr>\n",
       "      <th>9993</th>\n",
       "      <td>9994</td>\n",
       "      <td>CA-2017-119914</td>\n",
       "      <td>5/4/2017</td>\n",
       "      <td>5/9/2017</td>\n",
       "      <td>Second Class</td>\n",
       "      <td>CC-12220</td>\n",
       "      <td>Chris Cortes</td>\n",
       "      <td>Consumer</td>\n",
       "      <td>United States</td>\n",
       "      <td>Westminster</td>\n",
       "      <td>...</td>\n",
       "      <td>92683</td>\n",
       "      <td>West</td>\n",
       "      <td>OFF-AP-10002684</td>\n",
       "      <td>Office Supplies</td>\n",
       "      <td>Appliances</td>\n",
       "      <td>Acco 7-Outlet Masterpiece Power Center, Wihtou...</td>\n",
       "      <td>243.160</td>\n",
       "      <td>2</td>\n",
       "      <td>0.0</td>\n",
       "      <td>72.9480</td>\n",
       "    </tr>\n",
       "  </tbody>\n",
       "</table>\n",
       "<p>5 rows × 21 columns</p>\n",
       "</div>"
      ],
      "text/plain": [
       "      Row ID        Order ID Order Date  Ship Date       Ship Mode  \\\n",
       "9989    9990  CA-2014-110422  1/21/2014  1/23/2014    Second Class   \n",
       "9990    9991  CA-2017-121258  2/26/2017   3/3/2017  Standard Class   \n",
       "9991    9992  CA-2017-121258  2/26/2017   3/3/2017  Standard Class   \n",
       "9992    9993  CA-2017-121258  2/26/2017   3/3/2017  Standard Class   \n",
       "9993    9994  CA-2017-119914   5/4/2017   5/9/2017    Second Class   \n",
       "\n",
       "     Customer ID     Customer Name   Segment        Country         City  ...  \\\n",
       "9989    TB-21400  Tom Boeckenhauer  Consumer  United States        Miami  ...   \n",
       "9990    DB-13060       Dave Brooks  Consumer  United States   Costa Mesa  ...   \n",
       "9991    DB-13060       Dave Brooks  Consumer  United States   Costa Mesa  ...   \n",
       "9992    DB-13060       Dave Brooks  Consumer  United States   Costa Mesa  ...   \n",
       "9993    CC-12220      Chris Cortes  Consumer  United States  Westminster  ...   \n",
       "\n",
       "     Postal Code  Region       Product ID         Category Sub-Category  \\\n",
       "9989       33180   South  FUR-FU-10001889        Furniture  Furnishings   \n",
       "9990       92627    West  FUR-FU-10000747        Furniture  Furnishings   \n",
       "9991       92627    West  TEC-PH-10003645       Technology       Phones   \n",
       "9992       92627    West  OFF-PA-10004041  Office Supplies        Paper   \n",
       "9993       92683    West  OFF-AP-10002684  Office Supplies   Appliances   \n",
       "\n",
       "                                           Product Name    Sales  Quantity  \\\n",
       "9989                             Ultra Door Pull Handle   25.248         3   \n",
       "9990  Tenex B1-RE Series Chair Mats for Low Pile Car...   91.960         2   \n",
       "9991                              Aastra 57i VoIP phone  258.576         2   \n",
       "9992  It's Hot Message Books with Stickers, 2 3/4\" x 5\"   29.600         4   \n",
       "9993  Acco 7-Outlet Masterpiece Power Center, Wihtou...  243.160         2   \n",
       "\n",
       "      Discount   Profit  \n",
       "9989       0.2   4.1028  \n",
       "9990       0.0  15.6332  \n",
       "9991       0.2  19.3932  \n",
       "9992       0.0  13.3200  \n",
       "9993       0.0  72.9480  \n",
       "\n",
       "[5 rows x 21 columns]"
      ]
     },
     "execution_count": 19,
     "metadata": {},
     "output_type": "execute_result"
    }
   ],
   "source": [
    "superstore.tail(5)"
   ]
  },
  {
   "cell_type": "markdown",
   "id": "44122713",
   "metadata": {},
   "source": [
    "Data diatas menjalaskan sebagai berikut:\n",
    "\n",
    "- Row ID = Jumlah baris ke-n\n",
    "- Order ID = Unik ID pesana\n",
    "- Order Date = Tanggal pesanan\n",
    "- Ship Date = Tanggal pengiriman\n",
    "- Ship Mode = Mode pengiriman yang ditentukan oleh pelanggan\n",
    "- Customer ID = unik ID untuk mengidentifikasi pelanggan\n",
    "- Customer Name = Nama pelanggan\n",
    "- Segment = Segmentasi pelanggan\n",
    "- Country = Negara tempat tinggal pelanggan\n",
    "- City = Kota tempat tinggal pelanggan\n",
    "- Postal Code = Kode pos\n",
    "- Region = Wilayah bagian tempat tinggal pelanggan\n",
    "- Product ID = Unik ID untuk mengidentifikasi produk\n",
    "- Category = Kategori produk\n",
    "- Sub-category = Sub-kategori produk\n",
    "- Product Name = Nama produk\n",
    "- Sale = Nominal penjualan\n",
    "- Quantity = Jumlah produk yang dibeli\n",
    "- Discount = Diskon/potongan harga\n",
    "- Profit = Keuntungan penjualan dari sebuah produk\n"
   ]
  },
  {
   "cell_type": "code",
   "execution_count": 21,
   "id": "611789cc",
   "metadata": {},
   "outputs": [
    {
     "name": "stdout",
     "output_type": "stream",
     "text": [
      "<class 'pandas.core.frame.DataFrame'>\n",
      "RangeIndex: 9994 entries, 0 to 9993\n",
      "Data columns (total 21 columns):\n",
      " #   Column         Non-Null Count  Dtype  \n",
      "---  ------         --------------  -----  \n",
      " 0   Row ID         9994 non-null   int64  \n",
      " 1   Order ID       9994 non-null   object \n",
      " 2   Order Date     9994 non-null   object \n",
      " 3   Ship Date      9994 non-null   object \n",
      " 4   Ship Mode      9994 non-null   object \n",
      " 5   Customer ID    9994 non-null   object \n",
      " 6   Customer Name  9994 non-null   object \n",
      " 7   Segment        9994 non-null   object \n",
      " 8   Country        9994 non-null   object \n",
      " 9   City           9994 non-null   object \n",
      " 10  State          9994 non-null   object \n",
      " 11  Postal Code    9994 non-null   int64  \n",
      " 12  Region         9994 non-null   object \n",
      " 13  Product ID     9994 non-null   object \n",
      " 14  Category       9994 non-null   object \n",
      " 15  Sub-Category   9994 non-null   object \n",
      " 16  Product Name   9994 non-null   object \n",
      " 17  Sales          9994 non-null   float64\n",
      " 18  Quantity       9994 non-null   int64  \n",
      " 19  Discount       9994 non-null   float64\n",
      " 20  Profit         9994 non-null   float64\n",
      "dtypes: float64(3), int64(3), object(15)\n",
      "memory usage: 1.6+ MB\n"
     ]
    }
   ],
   "source": [
    "superstore.info()"
   ]
  },
  {
   "cell_type": "code",
   "execution_count": 29,
   "id": "53566578",
   "metadata": {},
   "outputs": [
    {
     "data": {
      "text/plain": [
       "Row ID           9994\n",
       "Order ID         5009\n",
       "Order Date       1237\n",
       "Ship Date        1334\n",
       "Ship Mode           4\n",
       "Customer ID       793\n",
       "Customer Name     793\n",
       "Segment             3\n",
       "Country             1\n",
       "City              531\n",
       "State              49\n",
       "Postal Code       631\n",
       "Region              4\n",
       "Product ID       1862\n",
       "Category            3\n",
       "Sub-Category       17\n",
       "Product Name     1850\n",
       "Sales            5825\n",
       "Quantity           14\n",
       "Discount           12\n",
       "Profit           7287\n",
       "dtype: int64"
      ]
     },
     "execution_count": 29,
     "metadata": {},
     "output_type": "execute_result"
    }
   ],
   "source": [
    "superstore.nunique()"
   ]
  },
  {
   "cell_type": "markdown",
   "id": "dc4d57d1",
   "metadata": {},
   "source": [
    "Dapat dilihat bahwa dataset memiliki baris dan kolom dengan jumlah 9.993 dan 21 berturut-turut. Pada projek _Market Basket Analysis_ ini, tidak semua kolom akan digunakan. Kolom-kolom yang akan digunakan adalah sebagai berikut: \n",
    "\n",
    "- Order ID\n",
    "- City\n",
    "- Product Name\n",
    "- Category\n",
    "- Quantity\n",
    "\n",
    "Kolom Country tidak dipilih karena hanya ada 1 Negara. \n",
    "Sekarang kita akan pilih kolom yang akan digunakan dan buat dataframe baru"
   ]
  },
  {
   "cell_type": "code",
   "execution_count": 87,
   "id": "e3d42f75",
   "metadata": {},
   "outputs": [],
   "source": [
    "superstore_new = superstore[[\"Order ID\", \"City\", \"State\", \"Product Name\", \"Quantity\", \"Category\"]]"
   ]
  },
  {
   "cell_type": "code",
   "execution_count": 88,
   "id": "3328302f",
   "metadata": {},
   "outputs": [
    {
     "data": {
      "text/html": [
       "<div>\n",
       "<style scoped>\n",
       "    .dataframe tbody tr th:only-of-type {\n",
       "        vertical-align: middle;\n",
       "    }\n",
       "\n",
       "    .dataframe tbody tr th {\n",
       "        vertical-align: top;\n",
       "    }\n",
       "\n",
       "    .dataframe thead th {\n",
       "        text-align: right;\n",
       "    }\n",
       "</style>\n",
       "<table border=\"1\" class=\"dataframe\">\n",
       "  <thead>\n",
       "    <tr style=\"text-align: right;\">\n",
       "      <th></th>\n",
       "      <th>Order ID</th>\n",
       "      <th>City</th>\n",
       "      <th>State</th>\n",
       "      <th>Product Name</th>\n",
       "      <th>Quantity</th>\n",
       "      <th>Category</th>\n",
       "    </tr>\n",
       "  </thead>\n",
       "  <tbody>\n",
       "    <tr>\n",
       "      <th>0</th>\n",
       "      <td>CA-2016-152156</td>\n",
       "      <td>Henderson</td>\n",
       "      <td>Kentucky</td>\n",
       "      <td>Bush Somerset Collection Bookcase</td>\n",
       "      <td>2</td>\n",
       "      <td>Furniture</td>\n",
       "    </tr>\n",
       "    <tr>\n",
       "      <th>1</th>\n",
       "      <td>CA-2016-152156</td>\n",
       "      <td>Henderson</td>\n",
       "      <td>Kentucky</td>\n",
       "      <td>Hon Deluxe Fabric Upholstered Stacking Chairs,...</td>\n",
       "      <td>3</td>\n",
       "      <td>Furniture</td>\n",
       "    </tr>\n",
       "    <tr>\n",
       "      <th>2</th>\n",
       "      <td>CA-2016-138688</td>\n",
       "      <td>Los Angeles</td>\n",
       "      <td>California</td>\n",
       "      <td>Self-Adhesive Address Labels for Typewriters b...</td>\n",
       "      <td>2</td>\n",
       "      <td>Office Supplies</td>\n",
       "    </tr>\n",
       "    <tr>\n",
       "      <th>3</th>\n",
       "      <td>US-2015-108966</td>\n",
       "      <td>Fort Lauderdale</td>\n",
       "      <td>Florida</td>\n",
       "      <td>Bretford CR4500 Series Slim Rectangular Table</td>\n",
       "      <td>5</td>\n",
       "      <td>Furniture</td>\n",
       "    </tr>\n",
       "    <tr>\n",
       "      <th>4</th>\n",
       "      <td>US-2015-108966</td>\n",
       "      <td>Fort Lauderdale</td>\n",
       "      <td>Florida</td>\n",
       "      <td>Eldon Fold 'N Roll Cart System</td>\n",
       "      <td>2</td>\n",
       "      <td>Office Supplies</td>\n",
       "    </tr>\n",
       "  </tbody>\n",
       "</table>\n",
       "</div>"
      ],
      "text/plain": [
       "         Order ID             City       State  \\\n",
       "0  CA-2016-152156        Henderson    Kentucky   \n",
       "1  CA-2016-152156        Henderson    Kentucky   \n",
       "2  CA-2016-138688      Los Angeles  California   \n",
       "3  US-2015-108966  Fort Lauderdale     Florida   \n",
       "4  US-2015-108966  Fort Lauderdale     Florida   \n",
       "\n",
       "                                        Product Name  Quantity  \\\n",
       "0                  Bush Somerset Collection Bookcase         2   \n",
       "1  Hon Deluxe Fabric Upholstered Stacking Chairs,...         3   \n",
       "2  Self-Adhesive Address Labels for Typewriters b...         2   \n",
       "3      Bretford CR4500 Series Slim Rectangular Table         5   \n",
       "4                     Eldon Fold 'N Roll Cart System         2   \n",
       "\n",
       "          Category  \n",
       "0        Furniture  \n",
       "1        Furniture  \n",
       "2  Office Supplies  \n",
       "3        Furniture  \n",
       "4  Office Supplies  "
      ]
     },
     "execution_count": 88,
     "metadata": {},
     "output_type": "execute_result"
    }
   ],
   "source": [
    "superstore_new.head()"
   ]
  },
  {
   "cell_type": "code",
   "execution_count": 89,
   "id": "2746daab",
   "metadata": {},
   "outputs": [
    {
     "data": {
      "text/plain": [
       "Order ID        False\n",
       "City            False\n",
       "State           False\n",
       "Product Name    False\n",
       "Quantity        False\n",
       "Category        False\n",
       "dtype: bool"
      ]
     },
     "execution_count": 89,
     "metadata": {},
     "output_type": "execute_result"
    }
   ],
   "source": [
    "superstore_new.isna().any()"
   ]
  },
  {
   "cell_type": "markdown",
   "id": "51dd6995",
   "metadata": {},
   "source": [
    "tidak ada _missing values_ pada data"
   ]
  },
  {
   "cell_type": "code",
   "execution_count": 122,
   "id": "3e9961bd",
   "metadata": {},
   "outputs": [
    {
     "data": {
      "text/plain": [
       "<AxesSubplot:xlabel='Category'>"
      ]
     },
     "execution_count": 122,
     "metadata": {},
     "output_type": "execute_result"
    },
    {
     "data": {
      "image/png": "[encoded data removed]",
      "text/plain": [
       "<Figure size 432x288 with 1 Axes>"
      ]
     },
     "metadata": {
      "needs_background": "light"
     },
     "output_type": "display_data"
    }
   ],
   "source": [
    "superstore_new.groupby(\"Category\")[\"Product Name\"].count().sort_values(ascending=False).plot(kind=\"bar\")"
   ]
  },
  {
   "cell_type": "markdown",
   "id": "9b16393c",
   "metadata": {},
   "source": [
    "kategori item pertama terbanyak dibeli adalah **office supplies**, diikuti oleh **furniture** dan terakhir adalah **technology**"
   ]
  },
  {
   "cell_type": "code",
   "execution_count": 99,
   "id": "d41e6e77",
   "metadata": {},
   "outputs": [
    {
     "data": {
      "text/plain": [
       "<AxesSubplot:xlabel='City'>"
      ]
     },
     "execution_count": 99,
     "metadata": {},
     "output_type": "execute_result"
    },
    {
     "data": {
      "image/png": "[encoded data removed]",
      "text/plain": [
       "<Figure size 432x288 with 1 Axes>"
      ]
     },
     "metadata": {
      "needs_background": "light"
     },
     "output_type": "display_data"
    }
   ],
   "source": [
    "superstore_new.groupby(\"City\")[\"Product Name\"].count().sort_values(ascending=False).head(20).plot(kind=\"bar\")"
   ]
  },
  {
   "cell_type": "markdown",
   "id": "0a57ae44",
   "metadata": {},
   "source": [
    "Grafik diatas menunjukkan 20 kota dengan penjualan terbanyak berdasarkan jenis produk yang dijual. Kota yang memiliki penjualan terbanyak adalah **New York City**"
   ]
  },
  {
   "cell_type": "code",
   "execution_count": 101,
   "id": "37a6267c",
   "metadata": {},
   "outputs": [
    {
     "data": {
      "text/plain": [
       "<AxesSubplot:xlabel='City'>"
      ]
     },
     "execution_count": 101,
     "metadata": {},
     "output_type": "execute_result"
    },
    {
     "data": {
      "image/png": "[encoded data removed]",
      "text/plain": [
       "<Figure size 432x288 with 1 Axes>"
      ]
     },
     "metadata": {
      "needs_background": "light"
     },
     "output_type": "display_data"
    }
   ],
   "source": [
    "superstore_new.groupby(\"City\")[\"Quantity\"].sum().sort_values(ascending=False).head(20).plot(kind=\"bar\")"
   ]
  },
  {
   "cell_type": "markdown",
   "id": "d0061965",
   "metadata": {},
   "source": [
    "Grafik diatas menunjukkan 20 kota dengan penjualan terbanyak berdasarkan total kuantitas dari total jenis produk yang dijual. Kota yang memiliki penjualan terbanyak masih sama seperti sebelumnya, yaitu **New York City**"
   ]
  },
  {
   "cell_type": "code",
   "execution_count": 95,
   "id": "fa5d0872",
   "metadata": {},
   "outputs": [
    {
     "data": {
      "text/plain": [
       "1"
      ]
     },
     "execution_count": 95,
     "metadata": {},
     "output_type": "execute_result"
    }
   ],
   "source": [
    "superstore_new[superstore_new[\"City\"] == \"New York City\"][\"State\"].nunique()"
   ]
  },
  {
   "cell_type": "markdown",
   "id": "5fbdf90e",
   "metadata": {},
   "source": [
    "meskipun pada kenyataannya **New York City** memiliki 5 wilayah yang terdiri dari **Brooklyn, Queens, Staten Island, The Bronx** dan **Manhattan**, namun pada dataset ini hanya terdapat 1 wilayah yang dicatat dengan nama **New York**"
   ]
  },
  {
   "cell_type": "code",
   "execution_count": 119,
   "id": "84e7a9ad",
   "metadata": {},
   "outputs": [
    {
     "data": {
      "text/plain": [
       "<AxesSubplot:xlabel='Category'>"
      ]
     },
     "execution_count": 119,
     "metadata": {},
     "output_type": "execute_result"
    },
    {
     "data": {
      "image/png": "[encoded data removed]",
      "text/plain": [
       "<Figure size 432x288 with 1 Axes>"
      ]
     },
     "metadata": {
      "needs_background": "light"
     },
     "output_type": "display_data"
    }
   ],
   "source": [
    "superstore_new[superstore_new[\"City\"] == \"New York City\"].groupby([\"Category\"])\\\n",
    "[[\"Product Name\"]].count().sort_values(\"Product Name\", ascending=False).plot(kind=\"bar\")"
   ]
  },
  {
   "cell_type": "markdown",
   "id": "6c5fb646",
   "metadata": {},
   "source": [
    "Kategori produk terbanyak yang terjual di **New York City** adalah **Office Supplies** mengingat kota tersebut dipenuhi oleh perusahaan-perusahaan besar kelas dunia"
   ]
  }
 ],
 "metadata": {
  "kernelspec": {
   "display_name": "Python 3 (ipykernel)",
   "language": "python",
   "name": "python3"
  },
  "language_info": {
   "codemirror_mode": {
    "name": "ipython",
    "version": 3
   },
   "file_extension": ".py",
   "mimetype": "text/x-python",
   "name": "python",
   "nbconvert_exporter": "python",
   "pygments_lexer": "ipython3",
   "version": "3.9.12"
  }
 },
 "nbformat": 4,
 "nbformat_minor": 5
}
